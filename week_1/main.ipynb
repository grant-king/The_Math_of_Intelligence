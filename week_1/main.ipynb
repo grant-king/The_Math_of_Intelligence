{
 "cells": [
  {
   "cell_type": "markdown",
   "metadata": {},
   "source": [
    "## Basic Optimization\n",
    "\n",
    "In this first introductory video of *The Math of Intelligence*, Siraj explains the foundation of optimization, and how a computer can find it with basic calculus.\n",
    "\n",
    "This is the first of several videos describing how ML algorithms are written, in order to teach the intuition needed to use higher-level tools effectively.\n",
    "\n",
    "ML is about mathmatical optimization. ML algorithms find an optimal solution by minimizing some predefined error. Optimization can be applied everywhere.\n",
    "\n",
    "Suprividsed learning is a simple type of learning that uses labeled data to determine an optimal solution. \n"
   ]
  },
  {
   "cell_type": "markdown",
   "metadata": {},
   "source": [
    "y=mx+b is the algebraic formula describing a striaght line. Regression is the process of trying to fine the best fit line for some collection of data."
   ]
  },
  {
   "cell_type": "code",
   "execution_count": 9,
   "metadata": {},
   "outputs": [],
   "source": [
    "#using y = mx+ b\n",
    "#the error value for a set of points and a particular line can be computed by\n",
    "def compute_error_for_line_given_points(b, m, points):\n",
    "    total_error = 0\n",
    "    #print(range(len(points)))\n",
    "    for i in range(len(points)):\n",
    "        x = points[i, 0]\n",
    "        y = points[i, 1]\n",
    "        total_error += (y - (m * x + b)) ** 2\n",
    "    return total_error / len(points)\n"
   ]
  },
  {
   "cell_type": "markdown",
   "metadata": {},
   "source": [
    "# If the ablove function were run thousands of times and error values were graphed in 3 dimensions as:\n",
    "z = error\n",
    "\n",
    "y = y-intercept (b)\n",
    "\n",
    "x = slope (m)\n",
    "\n",
    "We can see a 3d parabola with the valley of minimum values. "
   ]
  },
  {
   "cell_type": "code",
   "execution_count": 10,
   "metadata": {},
   "outputs": [],
   "source": [
    "def runner(points, starting_b, starting_m, num_iterations):\n",
    "    b = starting_b\n",
    "    m = starting_m\n",
    "    for i in range(num_iterations):\n",
    "        b, m = compute_error_for_line_given_points(b, m, points)\n",
    "    return [b, m]"
   ]
  },
  {
   "cell_type": "code",
   "execution_count": 14,
   "metadata": {},
   "outputs": [],
   "source": [
    "#generate toy data\n",
    "import numpy as np\n",
    "toy_x = [i*1.23 for i in range(-50, 50)]\n",
    "toy_y = [i*4.56 for i in range(-50, 50)]\n",
    "datapoints = list(zip(toy_x, toy_y))\n",
    "datapoints = np.array(datapoints)\n",
    "#print(datapoints)"
   ]
  },
  {
   "cell_type": "code",
   "execution_count": 12,
   "metadata": {},
   "outputs": [
    {
     "ename": "TypeError",
     "evalue": "'numpy.float64' object is not iterable",
     "output_type": "error",
     "traceback": [
      "\u001b[1;31m---------------------------------------------------------------------------\u001b[0m",
      "\u001b[1;31mTypeError\u001b[0m                                 Traceback (most recent call last)",
      "\u001b[1;32m<ipython-input-12-0d7b1675f381>\u001b[0m in \u001b[0;36m<module>\u001b[1;34m()\u001b[0m\n\u001b[0;32m      7\u001b[0m \u001b[0mplot\u001b[0m \u001b[1;33m=\u001b[0m \u001b[0mfigure\u001b[0m\u001b[1;33m(\u001b[0m\u001b[0mx_axis_label\u001b[0m \u001b[1;33m=\u001b[0m \u001b[1;34m'x = slope (m)'\u001b[0m\u001b[1;33m,\u001b[0m \u001b[0my_axis_label\u001b[0m\u001b[1;33m=\u001b[0m\u001b[1;34m'y = y-intercept (b)'\u001b[0m\u001b[1;33m)\u001b[0m\u001b[1;33m\u001b[0m\u001b[0m\n\u001b[0;32m      8\u001b[0m \u001b[1;33m\u001b[0m\u001b[0m\n\u001b[1;32m----> 9\u001b[1;33m \u001b[0mplot\u001b[0m\u001b[1;33m.\u001b[0m\u001b[0mline\u001b[0m\u001b[1;33m(\u001b[0m\u001b[0mrunner\u001b[0m\u001b[1;33m(\u001b[0m\u001b[0mdatapoints\u001b[0m\u001b[1;33m,\u001b[0m \u001b[1;36m2\u001b[0m\u001b[1;33m,\u001b[0m \u001b[1;36m21\u001b[0m\u001b[1;33m,\u001b[0m \u001b[1;36m100\u001b[0m\u001b[1;33m)\u001b[0m\u001b[1;33m)\u001b[0m\u001b[1;33m\u001b[0m\u001b[0m\n\u001b[0m\u001b[0;32m     10\u001b[0m \u001b[1;33m\u001b[0m\u001b[0m\n\u001b[0;32m     11\u001b[0m \u001b[0mshow\u001b[0m\u001b[1;33m(\u001b[0m\u001b[0mplot\u001b[0m\u001b[1;33m)\u001b[0m\u001b[1;33m\u001b[0m\u001b[0m\n",
      "\u001b[1;32m<ipython-input-10-7b60fb1cf488>\u001b[0m in \u001b[0;36mrunner\u001b[1;34m(points, starting_b, starting_m, num_iterations)\u001b[0m\n\u001b[0;32m      4\u001b[0m     \u001b[0mm\u001b[0m \u001b[1;33m=\u001b[0m \u001b[0mstarting_m\u001b[0m\u001b[1;33m\u001b[0m\u001b[0m\n\u001b[0;32m      5\u001b[0m     \u001b[1;32mfor\u001b[0m \u001b[0mi\u001b[0m \u001b[1;32min\u001b[0m \u001b[0mrange\u001b[0m\u001b[1;33m(\u001b[0m\u001b[0mnum_iterations\u001b[0m\u001b[1;33m)\u001b[0m\u001b[1;33m:\u001b[0m\u001b[1;33m\u001b[0m\u001b[0m\n\u001b[1;32m----> 6\u001b[1;33m         \u001b[0mb\u001b[0m\u001b[1;33m,\u001b[0m \u001b[0mm\u001b[0m \u001b[1;33m=\u001b[0m \u001b[0mcompute_error_for_line_given_points\u001b[0m\u001b[1;33m(\u001b[0m\u001b[0mb\u001b[0m\u001b[1;33m,\u001b[0m \u001b[0mm\u001b[0m\u001b[1;33m,\u001b[0m \u001b[0mpoints\u001b[0m\u001b[1;33m)\u001b[0m\u001b[1;33m\u001b[0m\u001b[0m\n\u001b[0m\u001b[0;32m      7\u001b[0m     \u001b[1;32mreturn\u001b[0m \u001b[1;33m[\u001b[0m\u001b[0mb\u001b[0m\u001b[1;33m,\u001b[0m \u001b[0mm\u001b[0m\u001b[1;33m]\u001b[0m\u001b[1;33m\u001b[0m\u001b[0m\n",
      "\u001b[1;31mTypeError\u001b[0m: 'numpy.float64' object is not iterable"
     ]
    }
   ],
   "source": [
    "\n",
    "#plot demonstraton\n",
    "from bokeh.plotting import figure\n",
    "from bokeh.io import show\n",
    "\n",
    "#add z when working\n",
    "plot = figure(x_axis_label = 'x = slope (m)', y_axis_label='y = y-intercept (b)')\n",
    "\n",
    "plot.line(runner(datapoints, 2, 21, 100))\n",
    "\n",
    "show(plot)"
   ]
  },
  {
   "cell_type": "markdown",
   "metadata": {},
   "source": [
    "How can a computer calculate which line has the least error?\n",
    "\n",
    "Using calculus the valley of minimum error can be determined by calculating where the derivative = 0\n",
    "\n",
    "Rather than randomly drawing lines, calculate the derivitive of some function at a given point. The derivative will point towards the minima, giving the algorithm feedback as to where"
   ]
  },
  {
   "cell_type": "code",
   "execution_count": null,
   "metadata": {},
   "outputs": [],
   "source": []
  }
 ],
 "metadata": {
  "kernelspec": {
   "display_name": "Python 3",
   "language": "python",
   "name": "python3"
  },
  "language_info": {
   "codemirror_mode": {
    "name": "ipython",
    "version": 3
   },
   "file_extension": ".py",
   "mimetype": "text/x-python",
   "name": "python",
   "nbconvert_exporter": "python",
   "pygments_lexer": "ipython3",
   "version": "3.6.1"
  }
 },
 "nbformat": 4,
 "nbformat_minor": 2
}
